{
 "cells": [
  {
   "attachments": {},
   "cell_type": "markdown",
   "id": "d92862b6-bcf2-4ab6-bc47-eaa07c2a015f",
   "metadata": {},
   "source": [
    "# Original Author: Jonathan Hudson\n",
    "# CPSC 501 F22"
   ]
  },
  {
   "cell_type": "code",
   "execution_count": 2,
   "id": "38265ac1-5c33-4324-aedc-155483f53ab8",
   "metadata": {},
   "outputs": [
    {
     "name": "stdout",
     "output_type": "stream",
     "text": [
      "--Get data--\n",
      "--Process data--\n"
     ]
    }
   ],
   "source": [
    "import tensorflow as tf\n",
    "\n",
    "tf.random.set_seed(1234)\n",
    "\n",
    "print(\"--Get data--\")\n",
    "mnist = tf.keras.datasets.mnist\n",
    "(x_train, y_train), (x_test, y_test) = mnist.load_data()\n",
    "\n",
    "print(\"--Process data--\")\n",
    "x_train, x_test = x_train / 255.0, x_test / 255.0"
   ]
  },
  {
   "cell_type": "code",
   "execution_count": 3,
   "id": "b118e511-7d40-4d34-96e0-e403a020d356",
   "metadata": {},
   "outputs": [
    {
     "name": "stdout",
     "output_type": "stream",
     "text": [
      "--Make model--\n",
      "--Fit model--\n",
      "Epoch 1/10\n",
      "1875/1875 - 5s - loss: 0.2506 - sparse_categorical_accuracy: 0.9277 - 5s/epoch - 3ms/step\n",
      "Epoch 2/10\n",
      "1875/1875 - 4s - loss: 0.1121 - sparse_categorical_accuracy: 0.9667 - 4s/epoch - 2ms/step\n",
      "Epoch 3/10\n",
      "1875/1875 - 4s - loss: 0.0787 - sparse_categorical_accuracy: 0.9765 - 4s/epoch - 2ms/step\n",
      "Epoch 4/10\n",
      "1875/1875 - 4s - loss: 0.0599 - sparse_categorical_accuracy: 0.9815 - 4s/epoch - 2ms/step\n",
      "Epoch 5/10\n",
      "1875/1875 - 4s - loss: 0.0464 - sparse_categorical_accuracy: 0.9858 - 4s/epoch - 2ms/step\n",
      "Epoch 6/10\n",
      "1875/1875 - 4s - loss: 0.0366 - sparse_categorical_accuracy: 0.9884 - 4s/epoch - 2ms/step\n",
      "Epoch 7/10\n",
      "1875/1875 - 4s - loss: 0.0295 - sparse_categorical_accuracy: 0.9908 - 4s/epoch - 2ms/step\n",
      "Epoch 8/10\n",
      "1875/1875 - 4s - loss: 0.0243 - sparse_categorical_accuracy: 0.9927 - 4s/epoch - 2ms/step\n",
      "Epoch 9/10\n",
      "1875/1875 - 4s - loss: 0.0201 - sparse_categorical_accuracy: 0.9939 - 4s/epoch - 2ms/step\n",
      "Epoch 10/10\n",
      "1875/1875 - 4s - loss: 0.0168 - sparse_categorical_accuracy: 0.9949 - 4s/epoch - 2ms/step\n"
     ]
    },
    {
     "data": {
      "text/plain": [
       "<keras.callbacks.History at 0x1c1abe160e0>"
      ]
     },
     "execution_count": 3,
     "metadata": {},
     "output_type": "execute_result"
    }
   ],
   "source": [
    "print(\"--Make model--\")\n",
    "model = tf.keras.models.Sequential([\n",
    "  tf.keras.layers.Flatten(input_shape=(28, 28)),\n",
    "  tf.keras.layers.Dense(128, activation='relu'),\n",
    "  tf.keras.layers.Dense(10)\n",
    "])\n",
    "model.compile(optimizer='adam', loss=tf.keras.losses.SparseCategoricalCrossentropy(from_logits=True), metrics=['sparse_categorical_accuracy'])\n",
    "\n",
    "print(\"--Fit model--\")\n",
    "model.fit(x_train, y_train, epochs=10, verbose=2)"
   ]
  },
  {
   "cell_type": "code",
   "execution_count": 4,
   "id": "0386efc2-843f-4805-8f5d-e25125e677dc",
   "metadata": {},
   "outputs": [
    {
     "name": "stdout",
     "output_type": "stream",
     "text": [
      "--Evaluate model--\n",
      "1875/1875 - 3s - loss: 0.0160 - sparse_categorical_accuracy: 0.9951 - 3s/epoch - 2ms/step\n",
      "313/313 - 1s - loss: 0.0869 - sparse_categorical_accuracy: 0.9766 - 681ms/epoch - 2ms/step\n",
      "Train / Test Accuracy: 99.5% / 97.7%\n"
     ]
    }
   ],
   "source": [
    "print(\"--Evaluate model--\")\n",
    "model_loss1, model_acc1 = model.evaluate(x_train,  y_train, verbose=2)\n",
    "model_loss2, model_acc2 = model.evaluate(x_test,  y_test, verbose=2)\n",
    "print(f\"Train / Test Accuracy: {model_acc1*100:.1f}% / {model_acc2*100:.1f}%\")"
   ]
  },
  {
   "cell_type": "markdown",
   "id": "17a0fa68",
   "metadata": {},
   "source": [
    "# Saving model"
   ]
  },
  {
   "cell_type": "code",
   "execution_count": 23,
   "id": "2d01d581",
   "metadata": {},
   "outputs": [],
   "source": [
    "model.save('MNIST.h5')"
   ]
  },
  {
   "cell_type": "markdown",
   "id": "5fdcd1d1",
   "metadata": {},
   "source": [
    "# Loading model"
   ]
  },
  {
   "cell_type": "code",
   "execution_count": 27,
   "id": "a2b4d316",
   "metadata": {},
   "outputs": [],
   "source": [
    "new_model = tf.keras.models.load_model('MNIST.h5')"
   ]
  }
 ],
 "metadata": {
  "kernelspec": {
   "display_name": "Python 3 (ipykernel)",
   "language": "python",
   "name": "python3"
  },
  "language_info": {
   "codemirror_mode": {
    "name": "ipython",
    "version": 3
   },
   "file_extension": ".py",
   "mimetype": "text/x-python",
   "name": "python",
   "nbconvert_exporter": "python",
   "pygments_lexer": "ipython3",
   "version": "3.10.8"
  }
 },
 "nbformat": 4,
 "nbformat_minor": 5
}
